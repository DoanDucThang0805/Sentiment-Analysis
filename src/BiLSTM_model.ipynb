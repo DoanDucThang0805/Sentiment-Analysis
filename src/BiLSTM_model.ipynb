{
 "cells": [
  {
   "cell_type": "markdown",
   "metadata": {},
   "source": [
    "### Import Library"
   ]
  },
  {
   "cell_type": "code",
   "execution_count": 1,
   "metadata": {},
   "outputs": [],
   "source": [
    "import pandas as pd\n",
    "import numpy as np\n",
    "import matplotlib.pyplot as plt\n",
    "import seaborn as sns\n",
    "import tensorflow as tf\n",
    "from tensorflow.keras.layers import Dense, Dropout, BatchNormalization, Embedding, Flatten, Bidirectional, LSTM\n",
    "from tensorflow.keras.models import Sequential\n",
    "from tensorflow.keras.losses import BinaryCrossentropy, SparseCategoricalCrossentropy, CategoricalCrossentropy\n",
    "from tensorflow.keras.optimizers import Adam, RMSprop, SGD\n",
    "from tensorflow.keras.preprocessing.text import Tokenizer\n",
    "from tensorflow.keras.preprocessing.sequence import pad_sequences\n",
    "from tensorflow.keras.callbacks import EarlyStopping\n",
    "from sklearn.model_selection import train_test_split\n",
    "from sklearn.preprocessing import LabelEncoder, OneHotEncoder\n",
    "import nltk\n",
    "from nltk.corpus import stopwords\n",
    "from nltk.stem import PorterStemmer\n",
    "from nltk.tokenize import word_tokenize\n",
    "from nltk.corpus import wordnet\n",
    "from nltk.stem import WordNetLemmatizer\n",
    "import re\n"
   ]
  },
  {
   "cell_type": "markdown",
   "metadata": {},
   "source": [
    "### Load Data"
   ]
  },
  {
   "cell_type": "code",
   "execution_count": 3,
   "metadata": {},
   "outputs": [],
   "source": [
    "# nltk.download('punkt')\n",
    "# nltk.download('stopwords')\n",
    "# nltk.download('wordnet')\n",
    "# nltk.download('averaged_perceptron_tagger')"
   ]
  },
  {
   "cell_type": "code",
   "execution_count": 10,
   "metadata": {},
   "outputs": [
    {
     "name": "stdout",
     "output_type": "stream",
     "text": [
      "<class 'pandas.core.frame.DataFrame'>\n",
      "Index: 20543 entries, 0 to 20599\n",
      "Data columns (total 2 columns):\n",
      " #   Column           Non-Null Count  Dtype \n",
      "---  ------           --------------  ----- \n",
      " 0   overview_rating  20543 non-null  object\n",
      " 1   comment          20543 non-null  object\n",
      "dtypes: object(2)\n",
      "memory usage: 481.5+ KB\n"
     ]
    }
   ],
   "source": [
    "df = pd.read_csv(\"D:/Setiment_analysis/data/data_comment_headphone.csv\")\n",
    "df.drop([\"name_guest\", \"date_review\", \"overview_text\"],axis=1, inplace= True)\n",
    "df.dropna(inplace= True)\n",
    "df.info()"
   ]
  },
  {
   "cell_type": "markdown",
   "metadata": {},
   "source": [
    "### Data proprecessing"
   ]
  },
  {
   "cell_type": "code",
   "execution_count": 11,
   "metadata": {},
   "outputs": [],
   "source": [
    "df['overview_rating'] = df['overview_rating'].str.extract(r'(\\d+\\.\\d+)').astype(float)\n"
   ]
  },
  {
   "cell_type": "code",
   "execution_count": 12,
   "metadata": {},
   "outputs": [],
   "source": [
    "\n",
    "def annotation(rating):\n",
    "    if(rating == 1.0 or rating == 2.0):\n",
    "        return \"negative\"\n",
    "    elif(rating == 3.0):\n",
    "        return \"neutral\"\n",
    "    else:\n",
    "        return \"positive\" \n",
    "\n",
    "df[\"overview_rating\"] = df[\"overview_rating\"].apply(annotation)"
   ]
  },
  {
   "cell_type": "code",
   "execution_count": 13,
   "metadata": {},
   "outputs": [
    {
     "data": {
      "text/plain": [
       "overview_rating\n",
       "positive    0.537361\n",
       "negative    0.307161\n",
       "neutral     0.155479\n",
       "Name: proportion, dtype: float64"
      ]
     },
     "execution_count": 13,
     "metadata": {},
     "output_type": "execute_result"
    }
   ],
   "source": [
    "df[\"overview_rating\"].value_counts(normalize= True)"
   ]
  },
  {
   "cell_type": "code",
   "execution_count": 28,
   "metadata": {},
   "outputs": [
    {
     "name": "stderr",
     "output_type": "stream",
     "text": [
      "c:\\Users\\ducth\\anaconda3\\envs\\iot\\Lib\\site-packages\\seaborn\\_oldcore.py:1765: FutureWarning: unique with argument that is not not a Series, Index, ExtensionArray, or np.ndarray is deprecated and will raise in a future version.\n",
      "  order = pd.unique(vector)\n"
     ]
    },
    {
     "data": {
      "text/plain": [
       "<Axes: >"
      ]
     },
     "execution_count": 28,
     "metadata": {},
     "output_type": "execute_result"
    },
    {
     "data": {
      "image/png": "[encoded data removed]",
      "text/plain": [
       "<Figure size 640x480 with 1 Axes>"
      ]
     },
     "metadata": {},
     "output_type": "display_data"
    }
   ],
   "source": [
    "x = df[\"overview_rating\"].value_counts()\n",
    "x = x.to_numpy()\n",
    "y = [\"positive\", \"negative\", \"neutral\"]\n",
    "sns.barplot(x=x, y=y)"
   ]
  },
  {
   "cell_type": "code",
   "execution_count": 15,
   "metadata": {},
   "outputs": [
    {
     "data": {
      "text/plain": [
       "overview_rating\n",
       "positive    11039\n",
       "negative     6310\n",
       "neutral      3194\n",
       "Name: count, dtype: int64"
      ]
     },
     "execution_count": 15,
     "metadata": {},
     "output_type": "execute_result"
    }
   ],
   "source": [
    "x"
   ]
  },
  {
   "cell_type": "code",
   "execution_count": 10,
   "metadata": {},
   "outputs": [],
   "source": [
    "l = []\n",
    "for i in df['overview_rating']:\n",
    "  if i == 'negative':\n",
    "    l.append(0)\n",
    "  elif i == 'neutral':\n",
    "    l.append(1)\n",
    "  else:\n",
    "    l.append(2)"
   ]
  },
  {
   "cell_type": "markdown",
   "metadata": {},
   "source": [
    "### Natural Language Proprecessing "
   ]
  },
  {
   "cell_type": "code",
   "execution_count": 11,
   "metadata": {},
   "outputs": [],
   "source": [
    "df1 = df.copy()"
   ]
  },
  {
   "cell_type": "markdown",
   "metadata": {},
   "source": [
    "* Standardize words"
   ]
  },
  {
   "cell_type": "code",
   "execution_count": 12,
   "metadata": {},
   "outputs": [
    {
     "data": {
      "text/plain": [
       "'i bought these in early january and for a while they were great theyre comfortable and they had good sound quality unfortunately they started having problems about two weeks ago and now they hardly have any sound at all and when they do it is really tinny'"
      ]
     },
     "execution_count": 12,
     "metadata": {},
     "output_type": "execute_result"
    }
   ],
   "source": [
    "def remove_punctuation(text):\n",
    "    cleaned_text = re.sub(r'\\.\\s*$', '', text)  # Loại bỏ dấu chấm ở cuối câu\n",
    "    cleaned_text = re.sub(r'[^\\w\\s]', '', cleaned_text)  # Loại bỏ dấu câu và ký tự đặc biệt\n",
    "    return cleaned_text\n",
    "\n",
    "df1[\"comment\"] = df1[\"comment\"].str.lower()\n",
    "df1[\"comment\"] = df1[\"comment\"].apply(remove_punctuation)\n",
    "df1[\"comment\"][1]"
   ]
  },
  {
   "cell_type": "markdown",
   "metadata": {},
   "source": [
    "* Stopword"
   ]
  },
  {
   "cell_type": "code",
   "execution_count": 13,
   "metadata": {},
   "outputs": [],
   "source": [
    "stop_words = set(stopwords.words('english'))\n",
    "def remove_stopwords(comment):\n",
    "    words = comment.split()\n",
    "    filtered_words = [word for word in words if word.lower() not in stop_words]\n",
    "    return ' '.join(filtered_words)\n",
    "\n",
    "# Thực hiện loại bỏ stopwords từ cột 'comment'\n",
    "df1['comment'] = df1['comment'].apply(remove_stopwords)\n"
   ]
  },
  {
   "cell_type": "code",
   "execution_count": 14,
   "metadata": {},
   "outputs": [
    {
     "name": "stdout",
     "output_type": "stream",
     "text": [
      "['am', 'has', 'there', 'now', 'at', 'but', 'yourselves', 'what', 'not', 'those', 'so', 'ain', 'on', 'over', 'needn', 'aren', 'being', 'hadn', 'through', 'be', 'don', 'very', 'wasn', 'as', 'into', 'just', \"weren't\", \"it's\", 'are', 'about', \"won't\", 'both', 'any', 'themselves', 'himself', \"you'll\", \"haven't\", 'my', 'after', 'they', \"you're\", \"that'll\", 'she', 'how', 'herself', 'them', 'under', 'no', 'you', 'by', 'a', 'its', 'some', 'me', 'mustn', 'ma', 'the', 'to', 'all', 'an', 'once', 'will', 'y', 'off', 'nor', 'who', 've', 'where', 'yours', 'd', \"wasn't\", 'we', \"hasn't\", 'each', 'theirs', 'until', 'if', 'their', 'does', 'further', 'shan', 'itself', \"needn't\", 'other', 'ours', 'had', 'during', 'from', 'because', 'm', 'when', 'did', 'haven', 'o', 'should', 'or', 'against', 'between', 'while', 'were', 's', \"she's\", \"didn't\", \"shouldn't\", \"should've\", 'it', 'have', 'that', 'whom', \"couldn't\", \"mightn't\", \"wouldn't\", \"hadn't\", 'such', \"you've\", 'shouldn', 'having', 'didn', 'been', 're', \"isn't\", 'her', 'couldn', 'more', 'won', 'can', 'for', \"you'd\", 'than', 'myself', 'too', 'above', 'before', 'then', 'and', 't', 'his', 'this', 'out', 'wouldn', 'isn', 'him', 'mightn', 'doing', 'our', 'doesn', 'was', 'is', 'only', 'hasn', 'hers', 'few', 'own', 'in', 'why', 'yourself', 'same', 'ourselves', 'which', 'below', 'll', \"mustn't\", 'weren', 'again', 'your', 'up', 'down', 'with', 'of', 'i', 'do', \"don't\", 'he', 'here', \"aren't\", \"doesn't\", \"shan't\", 'most', 'these']\n"
     ]
    }
   ],
   "source": [
    "print(list(stop_words))"
   ]
  },
  {
   "cell_type": "markdown",
   "metadata": {},
   "source": [
    "* Stemming"
   ]
  },
  {
   "cell_type": "code",
   "execution_count": 15,
   "metadata": {},
   "outputs": [],
   "source": [
    "# Khởi tạo đối tượng PorterStemmer\n",
    "stemmer = PorterStemmer()\n",
    "# Hàm để thực hiện stemming trên một đoạn văn bản\n",
    "def stem_text(text):\n",
    "    # Sử dụng word_tokenize để tách văn bản thành các từ\n",
    "    words = word_tokenize(text)\n",
    "    # Thực hiện stemming cho mỗi từ\n",
    "    stemmed_words = [stemmer.stem(word) for word in words]\n",
    "    # Ghép lại các từ đã được stemming thành một chuỗi văn bản\n",
    "    stemmed_text = ' '.join(stemmed_words)\n",
    "    return stemmed_text\n",
    "df1['comment'] = df1['comment'].apply(stem_text)"
   ]
  },
  {
   "cell_type": "markdown",
   "metadata": {},
   "source": [
    "* Lemmatization"
   ]
  },
  {
   "cell_type": "code",
   "execution_count": 16,
   "metadata": {},
   "outputs": [],
   "source": [
    "# # Khởi tạo WordNetLemmatizer\n",
    "# lemmatizer = WordNetLemmatizer()\n",
    "\n",
    "# # Hàm để lấy phần loại từ của WordNet\n",
    "# def get_wordnet_pos(word):\n",
    "#     tag = nltk.pos_tag([word])[0][1][0].upper()\n",
    "#     tag_dict = {\"J\": wordnet.ADJ,\n",
    "#                 \"N\": wordnet.NOUN,\n",
    "#                 \"V\": wordnet.VERB,\n",
    "#                 \"R\": wordnet.ADV}\n",
    "#     return tag_dict.get(tag, wordnet.NOUN)\n",
    "\n",
    "# # Hàm để thực hiện lemmatization trên một câu\n",
    "# def lemmatize_text(text):\n",
    "#     words = nltk.word_tokenize(text)\n",
    "#     lemmatized_words = [lemmatizer.lemmatize(word, get_wordnet_pos(word)) for word in words]\n",
    "#     return ' '.join(lemmatized_words)\n",
    "# df1['comment'] = df1['comment'].apply(lemmatize_text)\n"
   ]
  },
  {
   "cell_type": "code",
   "execution_count": 17,
   "metadata": {},
   "outputs": [],
   "source": [
    "X = df1[\"comment\"]\n",
    "Y = np.array(l)"
   ]
  },
  {
   "cell_type": "markdown",
   "metadata": {},
   "source": [
    "* Tokenization"
   ]
  },
  {
   "cell_type": "code",
   "execution_count": 2,
   "metadata": {},
   "outputs": [],
   "source": [
    "vocab_size = 200000\n",
    "embedding_dim = 32\n",
    "max_length = 1800"
   ]
  },
  {
   "cell_type": "code",
   "execution_count": 19,
   "metadata": {},
   "outputs": [],
   "source": [
    "tokenizer = Tokenizer(num_words= vocab_size, oov_token= \"<OOV>\")\n",
    "tokenizer.fit_on_texts(X)\n",
    "X_sequences = tokenizer.texts_to_sequences(X)"
   ]
  },
  {
   "cell_type": "code",
   "execution_count": 20,
   "metadata": {},
   "outputs": [],
   "source": [
    "X_padded = pad_sequences(X_sequences, maxlen=max_length, truncating= \"post\", padding= \"post\")"
   ]
  },
  {
   "cell_type": "code",
   "execution_count": 21,
   "metadata": {},
   "outputs": [
    {
     "data": {
      "text/plain": [
       "(20545, 1800)"
      ]
     },
     "execution_count": 21,
     "metadata": {},
     "output_type": "execute_result"
    }
   ],
   "source": [
    "X_padded.shape"
   ]
  },
  {
   "cell_type": "code",
   "execution_count": 22,
   "metadata": {},
   "outputs": [
    {
     "data": {
      "text/plain": [
       "array([[ 240,  142,  238, ...,    0,    0,    0],\n",
       "       [  35, 1499, 1522, ...,    0,    0,    0],\n",
       "       [3235,   10,    5, ...,    0,    0,    0],\n",
       "       ...,\n",
       "       [  56,  333,   71, ...,    0,    0,    0],\n",
       "       [ 173,  329,    4, ...,    0,    0,    0],\n",
       "       [  25,  281,    3, ...,    0,    0,    0]])"
      ]
     },
     "execution_count": 22,
     "metadata": {},
     "output_type": "execute_result"
    }
   ],
   "source": [
    "X_padded"
   ]
  },
  {
   "cell_type": "markdown",
   "metadata": {},
   "source": [
    "### Train/Test Split"
   ]
  },
  {
   "cell_type": "code",
   "execution_count": 23,
   "metadata": {},
   "outputs": [
    {
     "name": "stderr",
     "output_type": "stream",
     "text": [
      "d:\\Users\\admin\\App\\Local\\Program\\conda\\envs\\thuan\\lib\\site-packages\\sklearn\\preprocessing\\_encoders.py:808: FutureWarning: `sparse` was renamed to `sparse_output` in version 1.2 and will be removed in 1.4. `sparse_output` is ignored unless you leave `sparse` to its default value.\n",
      "  warnings.warn(\n"
     ]
    },
    {
     "data": {
      "text/plain": [
       "(20545, 3)"
      ]
     },
     "execution_count": 23,
     "metadata": {},
     "output_type": "execute_result"
    }
   ],
   "source": [
    "label_encode = OneHotEncoder(sparse= False, categories= 'auto')\n",
    "Y_target = label_encode.fit_transform(Y.reshape(-1, 1))\n",
    "Y_target.shape"
   ]
  },
  {
   "cell_type": "code",
   "execution_count": 24,
   "metadata": {},
   "outputs": [],
   "source": [
    "#MCSHBAP - map, chache, shuffle, batch, prefetch  from_tensor_slices, list_file\n",
    "dataset = tf.data.Dataset.from_tensor_slices((X_padded, Y_target))\n",
    "dataset = dataset.cache()\n",
    "dataset = dataset.shuffle(160000)\n",
    "dataset = dataset.batch(512)\n",
    "dataset = dataset.prefetch(8) # helps bottlenecks"
   ]
  },
  {
   "cell_type": "code",
   "execution_count": 25,
   "metadata": {},
   "outputs": [],
   "source": [
    "train = dataset.take(int(len(dataset)*.7))\n",
    "val = dataset.skip(int(len(dataset)*.7)).take(int(len(dataset)*.2))\n",
    "test = dataset.skip(int(len(dataset)*.9)).take(int(len(dataset)*.1))"
   ]
  },
  {
   "cell_type": "markdown",
   "metadata": {},
   "source": [
    "### BiLSTM Model"
   ]
  },
  {
   "cell_type": "code",
   "execution_count": 14,
   "metadata": {},
   "outputs": [
    {
     "name": "stderr",
     "output_type": "stream",
     "text": [
      "c:\\Users\\ducth\\anaconda3\\envs\\iot\\Lib\\site-packages\\keras\\src\\layers\\core\\embedding.py:86: UserWarning: Argument `input_length` is deprecated. Just remove it.\n",
      "  warnings.warn(\n",
      "c:\\Users\\ducth\\anaconda3\\envs\\iot\\Lib\\site-packages\\keras\\src\\layers\\core\\embedding.py:89: UserWarning: Do not pass an `input_shape`/`input_dim` argument to a layer. When using Sequential models, prefer using an `Input(shape)` object as the first layer in the model instead.\n",
      "  super().__init__(**kwargs)\n"
     ]
    }
   ],
   "source": [
    "model = Sequential([\n",
    "    Embedding(input_dim= vocab_size, output_dim= embedding_dim, input_length= max_length, input_shape= (1800,)),\n",
    "    Bidirectional(LSTM(embedding_dim, activation='tanh')),\n",
    "    Dense(128, activation= \"relu\"),\n",
    "    Dense(256, activation= \"relu\"),\n",
    "    Dense(128, activation= \"relu\"),\n",
    "    Dense(3, activation= \"softmax\")\n",
    "])\n",
    "\n",
    "model.compile(loss= CategoricalCrossentropy(),\n",
    "              optimizer= Adam(learning_rate= 0.001),\n",
    "              metrics= [\"accuracy\"])"
   ]
  },
  {
   "cell_type": "code",
   "execution_count": 15,
   "metadata": {},
   "outputs": [
    {
     "data": {
      "text/html": [
       "<pre style=\"white-space:pre;overflow-x:auto;line-height:normal;font-family:Menlo,'DejaVu Sans Mono',consolas,'Courier New',monospace\"><span style=\"font-weight: bold\">Model: \"sequential_4\"</span>\n",
       "</pre>\n"
      ],
      "text/plain": [
       "\u001b[1mModel: \"sequential_4\"\u001b[0m\n"
      ]
     },
     "metadata": {},
     "output_type": "display_data"
    },
    {
     "data": {
      "text/html": [
       "<pre style=\"white-space:pre;overflow-x:auto;line-height:normal;font-family:Menlo,'DejaVu Sans Mono',consolas,'Courier New',monospace\">┏━━━━━━━━━━━━━━━━━━━━━━━━━━━━━━━━━┳━━━━━━━━━━━━━━━━━━━━━━━━┳━━━━━━━━━━━━━━━┓\n",
       "┃<span style=\"font-weight: bold\"> Layer (type)                    </span>┃<span style=\"font-weight: bold\"> Output Shape           </span>┃<span style=\"font-weight: bold\">       Param # </span>┃\n",
       "┡━━━━━━━━━━━━━━━━━━━━━━━━━━━━━━━━━╇━━━━━━━━━━━━━━━━━━━━━━━━╇━━━━━━━━━━━━━━━┩\n",
       "│ embedding_4 (<span style=\"color: #0087ff; text-decoration-color: #0087ff\">Embedding</span>)         │ (<span style=\"color: #00d7ff; text-decoration-color: #00d7ff\">None</span>, <span style=\"color: #00af00; text-decoration-color: #00af00\">1800</span>, <span style=\"color: #00af00; text-decoration-color: #00af00\">32</span>)       │     <span style=\"color: #00af00; text-decoration-color: #00af00\">6,400,000</span> │\n",
       "├─────────────────────────────────┼────────────────────────┼───────────────┤\n",
       "│ bidirectional_4 (<span style=\"color: #0087ff; text-decoration-color: #0087ff\">Bidirectional</span>) │ (<span style=\"color: #00d7ff; text-decoration-color: #00d7ff\">None</span>, <span style=\"color: #00af00; text-decoration-color: #00af00\">64</span>)             │        <span style=\"color: #00af00; text-decoration-color: #00af00\">16,640</span> │\n",
       "├─────────────────────────────────┼────────────────────────┼───────────────┤\n",
       "│ dense_16 (<span style=\"color: #0087ff; text-decoration-color: #0087ff\">Dense</span>)                │ (<span style=\"color: #00d7ff; text-decoration-color: #00d7ff\">None</span>, <span style=\"color: #00af00; text-decoration-color: #00af00\">128</span>)            │         <span style=\"color: #00af00; text-decoration-color: #00af00\">8,320</span> │\n",
       "├─────────────────────────────────┼────────────────────────┼───────────────┤\n",
       "│ dense_17 (<span style=\"color: #0087ff; text-decoration-color: #0087ff\">Dense</span>)                │ (<span style=\"color: #00d7ff; text-decoration-color: #00d7ff\">None</span>, <span style=\"color: #00af00; text-decoration-color: #00af00\">256</span>)            │        <span style=\"color: #00af00; text-decoration-color: #00af00\">33,024</span> │\n",
       "├─────────────────────────────────┼────────────────────────┼───────────────┤\n",
       "│ dense_18 (<span style=\"color: #0087ff; text-decoration-color: #0087ff\">Dense</span>)                │ (<span style=\"color: #00d7ff; text-decoration-color: #00d7ff\">None</span>, <span style=\"color: #00af00; text-decoration-color: #00af00\">128</span>)            │        <span style=\"color: #00af00; text-decoration-color: #00af00\">32,896</span> │\n",
       "├─────────────────────────────────┼────────────────────────┼───────────────┤\n",
       "│ dense_19 (<span style=\"color: #0087ff; text-decoration-color: #0087ff\">Dense</span>)                │ (<span style=\"color: #00d7ff; text-decoration-color: #00d7ff\">None</span>, <span style=\"color: #00af00; text-decoration-color: #00af00\">3</span>)              │           <span style=\"color: #00af00; text-decoration-color: #00af00\">387</span> │\n",
       "└─────────────────────────────────┴────────────────────────┴───────────────┘\n",
       "</pre>\n"
      ],
      "text/plain": [
       "┏━━━━━━━━━━━━━━━━━━━━━━━━━━━━━━━━━┳━━━━━━━━━━━━━━━━━━━━━━━━┳━━━━━━━━━━━━━━━┓\n",
       "┃\u001b[1m \u001b[0m\u001b[1mLayer (type)                   \u001b[0m\u001b[1m \u001b[0m┃\u001b[1m \u001b[0m\u001b[1mOutput Shape          \u001b[0m\u001b[1m \u001b[0m┃\u001b[1m \u001b[0m\u001b[1m      Param #\u001b[0m\u001b[1m \u001b[0m┃\n",
       "┡━━━━━━━━━━━━━━━━━━━━━━━━━━━━━━━━━╇━━━━━━━━━━━━━━━━━━━━━━━━╇━━━━━━━━━━━━━━━┩\n",
       "│ embedding_4 (\u001b[38;5;33mEmbedding\u001b[0m)         │ (\u001b[38;5;45mNone\u001b[0m, \u001b[38;5;34m1800\u001b[0m, \u001b[38;5;34m32\u001b[0m)       │     \u001b[38;5;34m6,400,000\u001b[0m │\n",
       "├─────────────────────────────────┼────────────────────────┼───────────────┤\n",
       "│ bidirectional_4 (\u001b[38;5;33mBidirectional\u001b[0m) │ (\u001b[38;5;45mNone\u001b[0m, \u001b[38;5;34m64\u001b[0m)             │        \u001b[38;5;34m16,640\u001b[0m │\n",
       "├─────────────────────────────────┼────────────────────────┼───────────────┤\n",
       "│ dense_16 (\u001b[38;5;33mDense\u001b[0m)                │ (\u001b[38;5;45mNone\u001b[0m, \u001b[38;5;34m128\u001b[0m)            │         \u001b[38;5;34m8,320\u001b[0m │\n",
       "├─────────────────────────────────┼────────────────────────┼───────────────┤\n",
       "│ dense_17 (\u001b[38;5;33mDense\u001b[0m)                │ (\u001b[38;5;45mNone\u001b[0m, \u001b[38;5;34m256\u001b[0m)            │        \u001b[38;5;34m33,024\u001b[0m │\n",
       "├─────────────────────────────────┼────────────────────────┼───────────────┤\n",
       "│ dense_18 (\u001b[38;5;33mDense\u001b[0m)                │ (\u001b[38;5;45mNone\u001b[0m, \u001b[38;5;34m128\u001b[0m)            │        \u001b[38;5;34m32,896\u001b[0m │\n",
       "├─────────────────────────────────┼────────────────────────┼───────────────┤\n",
       "│ dense_19 (\u001b[38;5;33mDense\u001b[0m)                │ (\u001b[38;5;45mNone\u001b[0m, \u001b[38;5;34m3\u001b[0m)              │           \u001b[38;5;34m387\u001b[0m │\n",
       "└─────────────────────────────────┴────────────────────────┴───────────────┘\n"
      ]
     },
     "metadata": {},
     "output_type": "display_data"
    },
    {
     "data": {
      "text/html": [
       "<pre style=\"white-space:pre;overflow-x:auto;line-height:normal;font-family:Menlo,'DejaVu Sans Mono',consolas,'Courier New',monospace\"><span style=\"font-weight: bold\"> Total params: </span><span style=\"color: #00af00; text-decoration-color: #00af00\">6,491,267</span> (24.76 MB)\n",
       "</pre>\n"
      ],
      "text/plain": [
       "\u001b[1m Total params: \u001b[0m\u001b[38;5;34m6,491,267\u001b[0m (24.76 MB)\n"
      ]
     },
     "metadata": {},
     "output_type": "display_data"
    },
    {
     "data": {
      "text/html": [
       "<pre style=\"white-space:pre;overflow-x:auto;line-height:normal;font-family:Menlo,'DejaVu Sans Mono',consolas,'Courier New',monospace\"><span style=\"font-weight: bold\"> Trainable params: </span><span style=\"color: #00af00; text-decoration-color: #00af00\">6,491,267</span> (24.76 MB)\n",
       "</pre>\n"
      ],
      "text/plain": [
       "\u001b[1m Trainable params: \u001b[0m\u001b[38;5;34m6,491,267\u001b[0m (24.76 MB)\n"
      ]
     },
     "metadata": {},
     "output_type": "display_data"
    },
    {
     "data": {
      "text/html": [
       "<pre style=\"white-space:pre;overflow-x:auto;line-height:normal;font-family:Menlo,'DejaVu Sans Mono',consolas,'Courier New',monospace\"><span style=\"font-weight: bold\"> Non-trainable params: </span><span style=\"color: #00af00; text-decoration-color: #00af00\">0</span> (0.00 B)\n",
       "</pre>\n"
      ],
      "text/plain": [
       "\u001b[1m Non-trainable params: \u001b[0m\u001b[38;5;34m0\u001b[0m (0.00 B)\n"
      ]
     },
     "metadata": {},
     "output_type": "display_data"
    }
   ],
   "source": [
    "model.summary()"
   ]
  },
  {
   "cell_type": "code",
   "execution_count": 28,
   "metadata": {},
   "outputs": [],
   "source": [
    "def plot_training_history(history):\n",
    "    # Lấy các thông tin về mất mát và độ chính xác từ lịch sử huấn luyện\n",
    "    loss = history.history['loss']\n",
    "    val_loss = history.history['val_loss']\n",
    "    accuracy = history.history['accuracy']\n",
    "    val_accuracy = history.history['val_accuracy']\n",
    "    \n",
    "    # Vẽ biểu đồ mất mát\n",
    "    plt.figure(figsize=(12, 6))\n",
    "    plt.subplot(1, 2, 1)\n",
    "    plt.plot(loss, label='Training Loss')\n",
    "    plt.plot(val_loss, label='Validation Loss')\n",
    "    plt.title('Training and Validation Loss')\n",
    "    plt.xlabel('Epoch')\n",
    "    plt.ylabel('Loss')\n",
    "    plt.legend()\n",
    "    \n",
    "    # Vẽ biểu đồ độ chính xác\n",
    "    plt.subplot(1, 2, 2)\n",
    "    plt.plot(accuracy, label='Training Accuracy')\n",
    "    plt.plot(val_accuracy, label='Validation Accuracy')\n",
    "    plt.title('Training and Validation Accuracy')\n",
    "    plt.xlabel('Epoch')\n",
    "    plt.ylabel('Accuracy')\n",
    "    plt.legend()\n",
    "    \n",
    "    plt.show()\n"
   ]
  },
  {
   "cell_type": "code",
   "execution_count": 29,
   "metadata": {},
   "outputs": [
    {
     "name": "stdout",
     "output_type": "stream",
     "text": [
      "Epoch 1/50\n"
     ]
    },
    {
     "name": "stdout",
     "output_type": "stream",
     "text": [
      "28/28 [==============================] - 8s 182ms/step - loss: 1.0030 - accuracy: 0.5301 - val_loss: 0.9552 - val_accuracy: 0.5378\n",
      "Epoch 2/50\n",
      "28/28 [==============================] - 5s 165ms/step - loss: 0.8595 - accuracy: 0.6170 - val_loss: 0.6950 - val_accuracy: 0.7275\n",
      "Epoch 3/50\n",
      "28/28 [==============================] - 5s 162ms/step - loss: 0.6538 - accuracy: 0.7361 - val_loss: 0.6289 - val_accuracy: 0.7488\n",
      "Epoch 4/50\n",
      "28/28 [==============================] - 5s 165ms/step - loss: 0.5893 - accuracy: 0.7645 - val_loss: 0.5684 - val_accuracy: 0.7688\n",
      "Epoch 5/50\n",
      "28/28 [==============================] - 5s 165ms/step - loss: 0.5502 - accuracy: 0.7760 - val_loss: 0.5300 - val_accuracy: 0.7854\n",
      "Epoch 6/50\n",
      "28/28 [==============================] - 5s 164ms/step - loss: 0.5167 - accuracy: 0.7903 - val_loss: 0.4820 - val_accuracy: 0.8010\n",
      "Epoch 7/50\n",
      "28/28 [==============================] - 5s 164ms/step - loss: 0.4818 - accuracy: 0.8075 - val_loss: 0.4480 - val_accuracy: 0.8281\n",
      "Epoch 8/50\n",
      "28/28 [==============================] - 5s 166ms/step - loss: 0.4595 - accuracy: 0.8173 - val_loss: 0.4423 - val_accuracy: 0.8389\n",
      "Epoch 9/50\n",
      "28/28 [==============================] - 5s 168ms/step - loss: 0.4267 - accuracy: 0.8372 - val_loss: 0.3935 - val_accuracy: 0.8560\n",
      "Epoch 10/50\n",
      "28/28 [==============================] - 5s 166ms/step - loss: 0.3942 - accuracy: 0.8507 - val_loss: 0.3767 - val_accuracy: 0.8635\n",
      "Epoch 11/50\n",
      "28/28 [==============================] - 5s 164ms/step - loss: 0.3790 - accuracy: 0.8585 - val_loss: 0.3505 - val_accuracy: 0.8687\n",
      "Epoch 12/50\n",
      "28/28 [==============================] - 5s 168ms/step - loss: 0.3602 - accuracy: 0.8664 - val_loss: 0.3112 - val_accuracy: 0.8916\n",
      "Epoch 13/50\n",
      "28/28 [==============================] - 5s 167ms/step - loss: 0.3323 - accuracy: 0.8807 - val_loss: 0.3039 - val_accuracy: 0.8904\n",
      "Epoch 14/50\n",
      "28/28 [==============================] - 5s 167ms/step - loss: 0.3057 - accuracy: 0.8924 - val_loss: 0.2724 - val_accuracy: 0.9089\n",
      "Epoch 15/50\n",
      "28/28 [==============================] - 5s 167ms/step - loss: 0.2954 - accuracy: 0.8969 - val_loss: 0.2781 - val_accuracy: 0.9036\n",
      "Epoch 16/50\n",
      "28/28 [==============================] - 5s 168ms/step - loss: 0.2810 - accuracy: 0.9030 - val_loss: 0.2495 - val_accuracy: 0.9158\n",
      "Epoch 17/50\n",
      "28/28 [==============================] - 5s 170ms/step - loss: 0.2626 - accuracy: 0.9086 - val_loss: 0.2293 - val_accuracy: 0.9270\n",
      "Epoch 18/50\n",
      "28/28 [==============================] - 5s 168ms/step - loss: 0.2459 - accuracy: 0.9178 - val_loss: 0.2303 - val_accuracy: 0.9238\n",
      "Epoch 19/50\n",
      "28/28 [==============================] - 5s 167ms/step - loss: 0.2399 - accuracy: 0.9196 - val_loss: 0.2220 - val_accuracy: 0.9292\n",
      "Epoch 20/50\n",
      "28/28 [==============================] - 5s 169ms/step - loss: 0.2227 - accuracy: 0.9284 - val_loss: 0.1999 - val_accuracy: 0.9353\n",
      "Epoch 21/50\n",
      "28/28 [==============================] - 5s 168ms/step - loss: 0.2139 - accuracy: 0.9308 - val_loss: 0.2191 - val_accuracy: 0.9272\n",
      "Epoch 22/50\n",
      "28/28 [==============================] - 5s 167ms/step - loss: 0.2176 - accuracy: 0.9273 - val_loss: 0.2061 - val_accuracy: 0.9338\n",
      "Epoch 23/50\n",
      "28/28 [==============================] - 5s 168ms/step - loss: 0.2041 - accuracy: 0.9321 - val_loss: 0.2084 - val_accuracy: 0.9351\n",
      "Epoch 24/50\n",
      "28/28 [==============================] - 5s 168ms/step - loss: 0.2092 - accuracy: 0.9316 - val_loss: 0.1882 - val_accuracy: 0.9390\n",
      "Epoch 25/50\n",
      "28/28 [==============================] - 5s 168ms/step - loss: 0.1949 - accuracy: 0.9367 - val_loss: 0.1571 - val_accuracy: 0.9526\n",
      "Epoch 26/50\n",
      "28/28 [==============================] - 5s 166ms/step - loss: 0.1826 - accuracy: 0.9404 - val_loss: 0.1621 - val_accuracy: 0.9507\n",
      "Epoch 27/50\n",
      "28/28 [==============================] - 5s 168ms/step - loss: 0.1756 - accuracy: 0.9430 - val_loss: 0.1631 - val_accuracy: 0.9512\n",
      "Epoch 28/50\n",
      "28/28 [==============================] - 5s 167ms/step - loss: 0.1692 - accuracy: 0.9461 - val_loss: 0.1526 - val_accuracy: 0.9534\n",
      "Epoch 29/50\n",
      "28/28 [==============================] - 5s 168ms/step - loss: 0.1699 - accuracy: 0.9449 - val_loss: 0.1833 - val_accuracy: 0.9399\n",
      "Epoch 30/50\n",
      "28/28 [==============================] - 5s 168ms/step - loss: 0.1706 - accuracy: 0.9460 - val_loss: 0.1432 - val_accuracy: 0.9563\n",
      "Epoch 31/50\n",
      "28/28 [==============================] - 5s 168ms/step - loss: 0.1621 - accuracy: 0.9473 - val_loss: 0.1467 - val_accuracy: 0.9529\n",
      "Epoch 32/50\n",
      "28/28 [==============================] - 5s 168ms/step - loss: 0.1486 - accuracy: 0.9524 - val_loss: 0.1176 - val_accuracy: 0.9634\n",
      "Epoch 33/50\n",
      "28/28 [==============================] - 5s 168ms/step - loss: 0.1428 - accuracy: 0.9556 - val_loss: 0.1194 - val_accuracy: 0.9639\n",
      "Epoch 34/50\n",
      "28/28 [==============================] - 5s 167ms/step - loss: 0.1437 - accuracy: 0.9531 - val_loss: 0.1467 - val_accuracy: 0.9495\n",
      "Epoch 35/50\n",
      "28/28 [==============================] - 5s 167ms/step - loss: 0.1544 - accuracy: 0.9490 - val_loss: 0.1302 - val_accuracy: 0.9583\n",
      "Epoch 36/50\n",
      "28/28 [==============================] - 5s 168ms/step - loss: 0.1376 - accuracy: 0.9550 - val_loss: 0.1251 - val_accuracy: 0.9604\n",
      "Epoch 37/50\n",
      "28/28 [==============================] - 5s 168ms/step - loss: 0.1338 - accuracy: 0.9569 - val_loss: 0.1484 - val_accuracy: 0.9558\n",
      "Epoch 38/50\n",
      "28/28 [==============================] - 5s 167ms/step - loss: 0.1342 - accuracy: 0.9565 - val_loss: 0.1066 - val_accuracy: 0.9653\n",
      "Epoch 39/50\n",
      "28/28 [==============================] - 5s 168ms/step - loss: 0.1250 - accuracy: 0.9602 - val_loss: 0.1084 - val_accuracy: 0.9644\n",
      "Epoch 40/50\n",
      "28/28 [==============================] - 5s 168ms/step - loss: 0.1262 - accuracy: 0.9603 - val_loss: 0.1206 - val_accuracy: 0.9619\n",
      "Epoch 41/50\n",
      "28/28 [==============================] - 5s 168ms/step - loss: 0.1179 - accuracy: 0.9634 - val_loss: 0.1067 - val_accuracy: 0.9688\n",
      "Epoch 42/50\n",
      "28/28 [==============================] - 5s 168ms/step - loss: 0.1132 - accuracy: 0.9637 - val_loss: 0.0983 - val_accuracy: 0.9712\n",
      "Epoch 43/50\n",
      "28/28 [==============================] - 5s 167ms/step - loss: 0.1112 - accuracy: 0.9651 - val_loss: 0.1067 - val_accuracy: 0.9678\n",
      "Epoch 44/50\n",
      "28/28 [==============================] - 5s 169ms/step - loss: 0.1096 - accuracy: 0.9651 - val_loss: 0.1046 - val_accuracy: 0.9688\n",
      "Epoch 45/50\n",
      "28/28 [==============================] - 5s 168ms/step - loss: 0.1101 - accuracy: 0.9645 - val_loss: 0.0932 - val_accuracy: 0.9697\n",
      "Epoch 46/50\n",
      "28/28 [==============================] - 5s 170ms/step - loss: 0.1124 - accuracy: 0.9644 - val_loss: 0.0992 - val_accuracy: 0.9673\n",
      "Epoch 47/50\n",
      "28/28 [==============================] - 5s 169ms/step - loss: 0.1085 - accuracy: 0.9651 - val_loss: 0.1118 - val_accuracy: 0.9646\n",
      "Epoch 48/50\n",
      "28/28 [==============================] - 5s 167ms/step - loss: 0.1258 - accuracy: 0.9596 - val_loss: 0.1152 - val_accuracy: 0.9609\n",
      "Epoch 49/50\n",
      "28/28 [==============================] - 5s 167ms/step - loss: 0.1230 - accuracy: 0.9593 - val_loss: 0.1143 - val_accuracy: 0.9622\n",
      "Epoch 50/50\n",
      "28/28 [==============================] - 5s 167ms/step - loss: 0.1136 - accuracy: 0.9618 - val_loss: 0.0986 - val_accuracy: 0.9727\n",
      "==============================\n",
      "execution_time:  237.35313725471497\n",
      "==============================\n"
     ]
    },
    {
     "data": {
      "image/png": "[encoded data removed]",
      "text/plain": [
       "<Figure size 1200x600 with 2 Axes>"
      ]
     },
     "metadata": {},
     "output_type": "display_data"
    }
   ],
   "source": [
    "import time\n",
    "start = time.time()\n",
    "# early_stopping = EarlyStopping(monitor='val_loss', patience=3, restore_best_weights=True)\n",
    "history = model.fit(train, epochs= 50 , validation_data= val, verbose= 1)\n",
    "\n",
    "end = time.time()\n",
    "execution_time = end - start\n",
    "print(\"==============================\")\n",
    "print(\"execution_time: \", execution_time)\n",
    "print(\"==============================\")\n",
    "plot_training_history(history)"
   ]
  },
  {
   "cell_type": "markdown",
   "metadata": {},
   "source": [
    "### Evaluate Model "
   ]
  },
  {
   "cell_type": "code",
   "execution_count": 30,
   "metadata": {},
   "outputs": [],
   "source": [
    "for batch in test.as_numpy_iterator():\n",
    "    # Unpack the batch\n",
    "    X_true, y_true = batch"
   ]
  },
  {
   "cell_type": "code",
   "execution_count": 31,
   "metadata": {},
   "outputs": [
    {
     "name": "stdout",
     "output_type": "stream",
     "text": [
      "16/16 [==============================] - 1s 30ms/step\n"
     ]
    },
    {
     "data": {
      "text/plain": [
       "array([[9.9406999e-01, 4.8890235e-03, 1.0409630e-03],\n",
       "       [1.9256030e-08, 1.6115151e-06, 9.9999833e-01],\n",
       "       [9.9731487e-01, 1.5986045e-03, 1.0865612e-03],\n",
       "       ...,\n",
       "       [5.5499971e-05, 5.5142929e-04, 9.9939311e-01],\n",
       "       [7.6764190e-06, 1.3956073e-04, 9.9985278e-01],\n",
       "       [2.5018007e-01, 3.4620312e-01, 4.0361685e-01]], dtype=float32)"
      ]
     },
     "execution_count": 31,
     "metadata": {},
     "output_type": "execute_result"
    }
   ],
   "source": [
    "y_pred = model.predict(X_true)\n",
    "y_pred"
   ]
  },
  {
   "cell_type": "code",
   "execution_count": 32,
   "metadata": {},
   "outputs": [],
   "source": [
    "y_true = np.argmax(y_true, axis= 1)"
   ]
  },
  {
   "cell_type": "code",
   "execution_count": 33,
   "metadata": {},
   "outputs": [],
   "source": [
    "y_pred = np.argmax(y_pred, axis= 1)"
   ]
  },
  {
   "cell_type": "code",
   "execution_count": 34,
   "metadata": {},
   "outputs": [
    {
     "name": "stdout",
     "output_type": "stream",
     "text": [
      "              precision    recall  f1-score   support\n",
      "\n",
      "           0       0.97      0.97      0.97       163\n",
      "           1       0.96      0.88      0.92       101\n",
      "           2       0.95      0.98      0.96       248\n",
      "\n",
      "    accuracy                           0.96       512\n",
      "   macro avg       0.96      0.94      0.95       512\n",
      "weighted avg       0.96      0.96      0.95       512\n",
      "\n"
     ]
    }
   ],
   "source": [
    "from sklearn.metrics import classification_report\n",
    "\n",
    "report = classification_report(y_true, y_pred)\n",
    "print(report)"
   ]
  },
  {
   "cell_type": "markdown",
   "metadata": {},
   "source": [
    "### Results"
   ]
  },
  {
   "cell_type": "code",
   "execution_count": 35,
   "metadata": {},
   "outputs": [
    {
     "name": "stdout",
     "output_type": "stream",
     "text": [
      "<class 'pandas.core.frame.DataFrame'>\n",
      "RangeIndex: 512 entries, 0 to 511\n",
      "Data columns (total 2 columns):\n",
      " #   Column  Non-Null Count  Dtype\n",
      "---  ------  --------------  -----\n",
      " 0   y_true  512 non-null    int64\n",
      " 1   y_pred  512 non-null    int64\n",
      "dtypes: int64(2)\n",
      "memory usage: 8.1 KB\n"
     ]
    }
   ],
   "source": [
    "# Create a DataFrame\n",
    "df3 = pd.DataFrame({'y_true': y_true, 'y_pred': y_pred})\n",
    "df3.info()"
   ]
  },
  {
   "cell_type": "code",
   "execution_count": 36,
   "metadata": {},
   "outputs": [
    {
     "data": {
      "image/png": "[encoded data removed]",
      "text/plain": [
       "<Figure size 1000x600 with 1 Axes>"
      ]
     },
     "metadata": {},
     "output_type": "display_data"
    }
   ],
   "source": [
    "import numpy as np\n",
    "import matplotlib.pyplot as plt\n",
    "\n",
    "# Assume y_true và y_pred là các mảng chứa dữ liệu thực tế và dữ liệu dự đoán tương ứng\n",
    "# Đảm bảo rằng độ dài của y_true và y_pred là như nhau\n",
    "\n",
    "# Tạo mảng các lớp\n",
    "classes = ['Class 1', 'Class 2', 'Class 3']\n",
    "\n",
    "# Đếm số lượng dữ liệu cho từng lớp trong y_true và y_pred\n",
    "true_counts = [np.sum(y_true == i) for i in range(len(classes))]\n",
    "pred_counts = [np.sum(y_pred == i) for i in range(len(classes))]\n",
    "\n",
    "# Tạo index cho các lớp\n",
    "index = np.arange(len(classes))\n",
    "\n",
    "# Độ rộng của cột\n",
    "bar_width = 0.35\n",
    "\n",
    "# Vẽ biểu đồ cột\n",
    "plt.figure(figsize=(10, 6))\n",
    "plt.bar(index, true_counts, bar_width, label='True', color='b')\n",
    "plt.bar(index + bar_width, pred_counts, bar_width, label='Predicted', color='r')\n",
    "\n",
    "# Gắn nhãn và tiêu đề\n",
    "plt.xlabel('Classes')\n",
    "plt.ylabel('Count')\n",
    "plt.title('True vs. Predicted Counts by Class')\n",
    "plt.xticks(index + bar_width / 2, classes)\n",
    "plt.legend()\n",
    "plt.tight_layout()\n",
    "\n",
    "# Hiển thị biểu đồ\n",
    "plt.show()\n"
   ]
  }
 ],
 "metadata": {
  "kernelspec": {
   "display_name": "iot",
   "language": "python",
   "name": "python3"
  },
  "language_info": {
   "codemirror_mode": {
    "name": "ipython",
    "version": 3
   },
   "file_extension": ".py",
   "mimetype": "text/x-python",
   "name": "python",
   "nbconvert_exporter": "python",
   "pygments_lexer": "ipython3",
   "version": "3.12.3"
  }
 },
 "nbformat": 4,
 "nbformat_minor": 2
}
